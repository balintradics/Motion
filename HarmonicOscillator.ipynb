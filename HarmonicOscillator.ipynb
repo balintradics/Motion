{
 "cells": [
  {
   "cell_type": "code",
   "execution_count": null,
   "id": "293372a4",
   "metadata": {},
   "outputs": [],
   "source": [
    "import os\n",
    "import numpy as np\n",
    "from scipy.integrate import odeint\n",
    "import matplotlib.pyplot as plt\n",
    "import matplotlib.animation as animation\n",
    "\n",
    "plt.rcParams['axes.grid'] = True\n",
    "plt.style.use('dark_background')"
   ]
  },
  {
   "cell_type": "code",
   "execution_count": null,
   "id": "bbc2961e",
   "metadata": {},
   "outputs": [],
   "source": [
    "def eqm(_y, _t, _k, _m):\n",
    "    \"\"\"\n",
    "    differential equations of motion describing the HO\n",
    "    _t: discrete time step value\n",
    "    _x: state vector\n",
    "    \"\"\"\n",
    "    c0 = _y[1] # dy/dt = v\n",
    "    c1 = -_k * _y[0]/_m # a = dv/dt = F/m\n",
    "    return np.array((c0, c1)) # [dy/dt, dv/dt]\n",
    "\n",
    "\n",
    "# time array\n",
    "time = np.arange(0, 100, 0.1)\n",
    "\n",
    "# body m initial conditions\n",
    "k = 1\n",
    "m = 20  # mass (kg)\n",
    "y0 = 0.03  # initial position (m)\n",
    "v0 = 0  # initial velocity (m/s)\n",
    "\n",
    "y0 = np.array((y0, v0))\n",
    "\n",
    "y = odeint(eqm, y0, time, args=(k, m))\n"
   ]
  },
  {
   "cell_type": "code",
   "execution_count": null,
   "id": "520a64b8",
   "metadata": {},
   "outputs": [],
   "source": [
    "print(y[:10,1])"
   ]
  },
  {
   "cell_type": "code",
   "execution_count": null,
   "id": "03c4faac",
   "metadata": {},
   "outputs": [],
   "source": [
    "fig, ax = plt.subplots()\n",
    "\n",
    "scat = ax.scatter(time[:], y[:,0], c=\"w\", s=5)#, label=f'v0 = {v0} m/s')"
   ]
  },
  {
   "cell_type": "code",
   "execution_count": null,
   "id": "b8d1bf0b",
   "metadata": {},
   "outputs": [],
   "source": [
    "def update(frame):\n",
    "    # for each frame, update the data stored on each artist.\n",
    "    global y\n",
    "    x_ = time[:frame]\n",
    "    y_ = y[:frame, 0]\n",
    "    # update the scatter plot:\n",
    "    data = np.stack([x_, y_]).T\n",
    "    scat.set_offsets(data)\n",
    "    return scat\n",
    "\n",
    "\n",
    "ani = animation.FuncAnimation(fig=fig, func=update, frames=1000, interval=5)\n",
    "#plt.show()\n",
    "\n",
    "from IPython.display import HTML\n",
    "HTML(ani.to_jshtml())"
   ]
  },
  {
   "cell_type": "code",
   "execution_count": null,
   "id": "489c15e4",
   "metadata": {},
   "outputs": [],
   "source": []
  }
 ],
 "metadata": {
  "kernelspec": {
   "display_name": "Python 3 (ipykernel)",
   "language": "python",
   "name": "python3"
  },
  "language_info": {
   "codemirror_mode": {
    "name": "ipython",
    "version": 3
   },
   "file_extension": ".py",
   "mimetype": "text/x-python",
   "name": "python",
   "nbconvert_exporter": "python",
   "pygments_lexer": "ipython3",
   "version": "3.9.12"
  }
 },
 "nbformat": 4,
 "nbformat_minor": 5
}
